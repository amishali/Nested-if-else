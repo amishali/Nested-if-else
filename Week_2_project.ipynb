{
  "nbformat": 4,
  "nbformat_minor": 0,
  "metadata": {
    "colab": {
      "name": "Week 2 project.ipynb",
      "provenance": [],
      "toc_visible": true,
      "authorship_tag": "ABX9TyMV7s3rluyPtNK1iK8CRewl",
      "include_colab_link": true
    },
    "kernelspec": {
      "name": "python3",
      "display_name": "Python 3"
    },
    "language_info": {
      "name": "python"
    }
  },
  "cells": [
    {
      "cell_type": "markdown",
      "metadata": {
        "id": "view-in-github",
        "colab_type": "text"
      },
      "source": [
        "<a href=\"https://colab.research.google.com/github/amishali/Nested-if-else/blob/main/Week_2_project.ipynb\" target=\"_parent\"><img src=\"https://colab.research.google.com/assets/colab-badge.svg\" alt=\"Open In Colab\"/></a>"
      ]
    },
    {
      "cell_type": "markdown",
      "source": [
        "- Project: Write a python program that checks whether a year is leap year or not. You are required to use nested if...else to solve this problem. ]\n",
        "\n",
        "To be able to solve this problem faster you need to have the knowledge of the following Python3 topics:\n",
        "1). Python Operators\n",
        "2). Python if...else Statement\n",
        "\n",
        "Note: A leap year is exactly divisible by 4 except for century years (years ending with 00). The century year is a leap year only if it is perfectly divisible by 400."
      ],
      "metadata": {
        "id": "s60BwHyDyoxp"
      }
    },
    {
      "cell_type": "code",
      "source": [
        "\n",
        "#ask User to enters the year\n",
        "year=int(input(\"Enter Year:\"))\n",
        "\n",
        "if(year%4==0 and year % 100 != 0):\n",
        "    if(year%100==0):\n",
        "      if(year%400==0):\n",
        " \n",
        "       print(\"%d is a leap year\"%year)\n",
        "    \n",
        "      else:\n",
        "        print(\"%d is not a leap year\"%year)\n",
        "\n",
        "    else:\n",
        "      print(\"%d is a leap year\"%year)\n",
        "    \n",
        "\n",
        "else:\n",
        "    print(\"%d is not a leap year\"%year)"
      ],
      "metadata": {
        "colab": {
          "base_uri": "https://localhost:8080/"
        },
        "id": "8YUuVIvG6zei",
        "outputId": "ff71f065-bec9-480d-cb48-1a3e372b6049"
      },
      "execution_count": 14,
      "outputs": [
        {
          "output_type": "stream",
          "name": "stdout",
          "text": [
            "Enter Year:2022\n",
            "2022 is not a leap year\n"
          ]
        }
      ]
    },
    {
      "cell_type": "code",
      "source": [
        "echo \"# Nested-if-else\" >> README.md\n",
        "git init\n",
        "git add README.md\n",
        "git commit -m \"first commit\"\n",
        "git branch -M main\n",
        "git remote add origin https://github.com/amishali/Nested-if-else.git\n",
        "git push -u origin main"
      ],
      "metadata": {
        "id": "dl5SBjLo-Ka_"
      },
      "execution_count": null,
      "outputs": []
    }
  ]
}